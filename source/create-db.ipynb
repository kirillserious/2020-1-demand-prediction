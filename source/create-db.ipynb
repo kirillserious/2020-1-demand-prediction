{
 "cells": [
  {
   "cell_type": "markdown",
   "metadata": {},
   "source": [
    "<h1>Создает таблицы из CSV файла в базе данных sqlite3</h1>"
   ]
  },
  {
   "cell_type": "markdown",
   "metadata": {},
   "source": [
    "Параметры:"
   ]
  },
  {
   "cell_type": "code",
   "execution_count": 10,
   "metadata": {},
   "outputs": [],
   "source": [
    "csv_file_path     = '../data/sales2018.csv'\n",
    "csv_rows_count    = 85711\n",
    "output_table_name = 'SALES_2018'"
   ]
  },
  {
   "cell_type": "markdown",
   "metadata": {},
   "source": [
    "Код:"
   ]
  },
  {
   "cell_type": "code",
   "execution_count": 2,
   "metadata": {},
   "outputs": [],
   "source": [
    "import pandas as pd\n",
    "import sqlite3"
   ]
  },
  {
   "cell_type": "code",
   "execution_count": 11,
   "metadata": {},
   "outputs": [
    {
     "data": {
      "text/html": [
       "<div>\n",
       "<style scoped>\n",
       "    .dataframe tbody tr th:only-of-type {\n",
       "        vertical-align: middle;\n",
       "    }\n",
       "\n",
       "    .dataframe tbody tr th {\n",
       "        vertical-align: top;\n",
       "    }\n",
       "\n",
       "    .dataframe thead th {\n",
       "        text-align: right;\n",
       "    }\n",
       "</style>\n",
       "<table border=\"1\" class=\"dataframe\">\n",
       "  <thead>\n",
       "    <tr style=\"text-align: right;\">\n",
       "      <th></th>\n",
       "      <th>DocNum</th>\n",
       "      <th>DocDate</th>\n",
       "      <th>GoodCode</th>\n",
       "      <th>BestBeforeDate</th>\n",
       "      <th>Period</th>\n",
       "      <th>Quantity</th>\n",
       "    </tr>\n",
       "  </thead>\n",
       "  <tbody>\n",
       "    <tr>\n",
       "      <th>0</th>\n",
       "      <td>2298599</td>\n",
       "      <td>02.01.18</td>\n",
       "      <td>15745</td>\n",
       "      <td>24.01.18</td>\n",
       "      <td>21</td>\n",
       "      <td>224.0</td>\n",
       "    </tr>\n",
       "    <tr>\n",
       "      <th>1</th>\n",
       "      <td>2298599</td>\n",
       "      <td>02.01.18</td>\n",
       "      <td>15747</td>\n",
       "      <td>24.01.18</td>\n",
       "      <td>21</td>\n",
       "      <td>128.0</td>\n",
       "    </tr>\n",
       "    <tr>\n",
       "      <th>2</th>\n",
       "      <td>2298864</td>\n",
       "      <td>03.01.18</td>\n",
       "      <td>1316</td>\n",
       "      <td>19.01.18</td>\n",
       "      <td>22</td>\n",
       "      <td>4.0</td>\n",
       "    </tr>\n",
       "    <tr>\n",
       "      <th>3</th>\n",
       "      <td>2298864</td>\n",
       "      <td>03.01.18</td>\n",
       "      <td>25020</td>\n",
       "      <td>17.01.18</td>\n",
       "      <td>15</td>\n",
       "      <td>6.0</td>\n",
       "    </tr>\n",
       "    <tr>\n",
       "      <th>4</th>\n",
       "      <td>2298864</td>\n",
       "      <td>03.01.18</td>\n",
       "      <td>1176</td>\n",
       "      <td>07.02.18</td>\n",
       "      <td>36</td>\n",
       "      <td>8.0</td>\n",
       "    </tr>\n",
       "    <tr>\n",
       "      <th>...</th>\n",
       "      <td>...</td>\n",
       "      <td>...</td>\n",
       "      <td>...</td>\n",
       "      <td>...</td>\n",
       "      <td>...</td>\n",
       "      <td>...</td>\n",
       "    </tr>\n",
       "    <tr>\n",
       "      <th>85706</th>\n",
       "      <td>2359730</td>\n",
       "      <td>22.01.18</td>\n",
       "      <td>4615</td>\n",
       "      <td>20.02.18</td>\n",
       "      <td>39</td>\n",
       "      <td>6.0</td>\n",
       "    </tr>\n",
       "    <tr>\n",
       "      <th>85707</th>\n",
       "      <td>2359730</td>\n",
       "      <td>22.01.18</td>\n",
       "      <td>1187</td>\n",
       "      <td>05.02.18</td>\n",
       "      <td>14</td>\n",
       "      <td>16.0</td>\n",
       "    </tr>\n",
       "    <tr>\n",
       "      <th>85708</th>\n",
       "      <td>2359730</td>\n",
       "      <td>22.01.18</td>\n",
       "      <td>0199</td>\n",
       "      <td>13.02.18</td>\n",
       "      <td>25</td>\n",
       "      <td>6.0</td>\n",
       "    </tr>\n",
       "    <tr>\n",
       "      <th>85709</th>\n",
       "      <td>2359730</td>\n",
       "      <td>22.01.18</td>\n",
       "      <td>1835</td>\n",
       "      <td>06.02.18</td>\n",
       "      <td>15</td>\n",
       "      <td>24.0</td>\n",
       "    </tr>\n",
       "    <tr>\n",
       "      <th>85710</th>\n",
       "      <td>2359730</td>\n",
       "      <td>22.01.18</td>\n",
       "      <td>25020</td>\n",
       "      <td>05.02.18</td>\n",
       "      <td>15</td>\n",
       "      <td>24.0</td>\n",
       "    </tr>\n",
       "  </tbody>\n",
       "</table>\n",
       "<p>85711 rows × 6 columns</p>\n",
       "</div>"
      ],
      "text/plain": [
       "        DocNum   DocDate GoodCode BestBeforeDate  Period  Quantity\n",
       "0      2298599  02.01.18    15745       24.01.18      21     224.0\n",
       "1      2298599  02.01.18    15747       24.01.18      21     128.0\n",
       "2      2298864  03.01.18     1316       19.01.18      22       4.0\n",
       "3      2298864  03.01.18    25020       17.01.18      15       6.0\n",
       "4      2298864  03.01.18     1176       07.02.18      36       8.0\n",
       "...        ...       ...      ...            ...     ...       ...\n",
       "85706  2359730  22.01.18     4615       20.02.18      39       6.0\n",
       "85707  2359730  22.01.18     1187       05.02.18      14      16.0\n",
       "85708  2359730  22.01.18     0199       13.02.18      25       6.0\n",
       "85709  2359730  22.01.18     1835       06.02.18      15      24.0\n",
       "85710  2359730  22.01.18    25020       05.02.18      15      24.0\n",
       "\n",
       "[85711 rows x 6 columns]"
      ]
     },
     "execution_count": 11,
     "metadata": {},
     "output_type": "execute_result"
    }
   ],
   "source": [
    "dataset    = pd.read_csv(csv_file_path, nrows=csv_rows_count)\n",
    "\n",
    "dataset"
   ]
  },
  {
   "cell_type": "code",
   "execution_count": 12,
   "metadata": {},
   "outputs": [],
   "source": [
    "connection = sqlite3.connect('../data/db.sqlite')\n",
    "dataset.to_sql(output_table_name, connection)"
   ]
  },
  {
   "cell_type": "code",
   "execution_count": 13,
   "metadata": {},
   "outputs": [
    {
     "data": {
      "text/html": [
       "<div>\n",
       "<style scoped>\n",
       "    .dataframe tbody tr th:only-of-type {\n",
       "        vertical-align: middle;\n",
       "    }\n",
       "\n",
       "    .dataframe tbody tr th {\n",
       "        vertical-align: top;\n",
       "    }\n",
       "\n",
       "    .dataframe thead th {\n",
       "        text-align: right;\n",
       "    }\n",
       "</style>\n",
       "<table border=\"1\" class=\"dataframe\">\n",
       "  <thead>\n",
       "    <tr style=\"text-align: right;\">\n",
       "      <th></th>\n",
       "      <th>GoodCode</th>\n",
       "      <th>BestBeforeDate</th>\n",
       "      <th>Quantity</th>\n",
       "    </tr>\n",
       "  </thead>\n",
       "  <tbody>\n",
       "    <tr>\n",
       "      <th>0</th>\n",
       "      <td>15745</td>\n",
       "      <td>24.01.18</td>\n",
       "      <td>224.0</td>\n",
       "    </tr>\n",
       "    <tr>\n",
       "      <th>1</th>\n",
       "      <td>15747</td>\n",
       "      <td>24.01.18</td>\n",
       "      <td>128.0</td>\n",
       "    </tr>\n",
       "  </tbody>\n",
       "</table>\n",
       "</div>"
      ],
      "text/plain": [
       "  GoodCode BestBeforeDate  Quantity\n",
       "0    15745       24.01.18     224.0\n",
       "1    15747       24.01.18     128.0"
      ]
     },
     "execution_count": 13,
     "metadata": {},
     "output_type": "execute_result"
    }
   ],
   "source": [
    "sql_string = \"SELECT GoodCode, BestBeforeDate, Quantity FROM sales_2018 WHERE DocDate = '02.01.18' ORDER BY GoodCode\"\n",
    "dataset = pd.read_sql(sql_string, connection)\n",
    "\n",
    "dataset"
   ]
  },
  {
   "cell_type": "code",
   "execution_count": null,
   "metadata": {},
   "outputs": [],
   "source": []
  }
 ],
 "metadata": {
  "kernelspec": {
   "display_name": "Python 3",
   "language": "python",
   "name": "python3"
  },
  "language_info": {
   "codemirror_mode": {
    "name": "ipython",
    "version": 3
   },
   "file_extension": ".py",
   "mimetype": "text/x-python",
   "name": "python",
   "nbconvert_exporter": "python",
   "pygments_lexer": "ipython3",
   "version": "3.7.3"
  }
 },
 "nbformat": 4,
 "nbformat_minor": 4
}
