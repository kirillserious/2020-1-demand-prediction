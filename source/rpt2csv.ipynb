{
 "cells": [
  {
   "cell_type": "markdown",
   "metadata": {},
   "source": [
    "<h1>Переводит файл из формата rpt в формат csv</h1>"
   ]
  },
  {
   "cell_type": "markdown",
   "metadata": {},
   "source": [
    "Параметры:"
   ]
  },
  {
   "cell_type": "code",
   "execution_count": 7,
   "metadata": {},
   "outputs": [],
   "source": [
    "input_file_path  = '../data/sales2018.rpt'\n",
    "output_file_path = '../data/sales2018.csv'"
   ]
  },
  {
   "cell_type": "markdown",
   "metadata": {},
   "source": [
    "Код:"
   ]
  },
  {
   "cell_type": "code",
   "execution_count": 1,
   "metadata": {},
   "outputs": [],
   "source": [
    "import sys\n",
    "import csv\n",
    "import codecs"
   ]
  },
  {
   "cell_type": "code",
   "execution_count": 2,
   "metadata": {},
   "outputs": [],
   "source": [
    "def convert(inputFile, outputFile):\n",
    "    writer = csv.writer(outputFile)\n",
    "    fieldIndexes = []\n",
    "    headers = \"\"\n",
    "\n",
    "    for idx, val in enumerate(inputFile):\n",
    "        if(idx == 0):\n",
    "            headers = val\n",
    "        elif(idx == 1):\n",
    "            fieldIndexes = list(getFieldIndexes(val,\" \"))\n",
    "            row = list(getFields(headers,fieldIndexes))\n",
    "            writer.writerow(row)\n",
    "        else:\n",
    "            row = list(getFields(val,fieldIndexes))\n",
    "            writer.writerow(row)\n",
    "            \n",
    "\n",
    "def getFieldIndexes(input, sep):\n",
    "    lastIndex = 0\n",
    "    for idx, c in enumerate(input):\n",
    "        if(c == sep):\n",
    "            yield (lastIndex,idx)\n",
    "            lastIndex = idx+1\n",
    "    yield lastIndex, len(input)\n",
    "    \n",
    "\n",
    "def getFields(input, indexes):\n",
    "    for index in indexes:\n",
    "        yield input[index[0]:index[1]].strip()"
   ]
  },
  {
   "cell_type": "code",
   "execution_count": 8,
   "metadata": {},
   "outputs": [],
   "source": [
    "with open(input_file_path) as input_file:\n",
    "    with open(output_file_path,'w',newline='') as output_file:\n",
    "        convert(input_file, output_file)"
   ]
  },
  {
   "cell_type": "code",
   "execution_count": null,
   "metadata": {},
   "outputs": [],
   "source": []
  }
 ],
 "metadata": {
  "kernelspec": {
   "display_name": "Python 3",
   "language": "python",
   "name": "python3"
  },
  "language_info": {
   "codemirror_mode": {
    "name": "ipython",
    "version": 3
   },
   "file_extension": ".py",
   "mimetype": "text/x-python",
   "name": "python",
   "nbconvert_exporter": "python",
   "pygments_lexer": "ipython3",
   "version": "3.7.3"
  }
 },
 "nbformat": 4,
 "nbformat_minor": 4
}
